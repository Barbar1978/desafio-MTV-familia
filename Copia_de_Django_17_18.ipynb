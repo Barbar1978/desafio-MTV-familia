{
  "nbformat": 4,
  "nbformat_minor": 0,
  "metadata": {
    "colab": {
      "provenance": [],
      "include_colab_link": true
    },
    "kernelspec": {
      "name": "python3",
      "display_name": "Python 3"
    },
    "language_info": {
      "name": "python"
    }
  },
  "cells": [
    {
      "cell_type": "markdown",
      "metadata": {
        "id": "view-in-github",
        "colab_type": "text"
      },
      "source": [
        "<a href=\"https://colab.research.google.com/github/Barbar1978/desafio-MTV-familia/blob/master/Copia_de_Django_17_18.ipynb\" target=\"_parent\"><img src=\"https://colab.research.google.com/assets/colab-badge.svg\" alt=\"Open In Colab\"/></a>"
      ]
    },
    {
      "cell_type": "code",
      "execution_count": null,
      "metadata": {
        "id": "ctz1t1a9k7Ki"
      },
      "outputs": [],
      "source": [
        "#DJANGO\n",
        "#python orientado al desarrollo web\n",
        "#Un paquete que nos va a definir una estructura de proyecto, para desarrollar proyectos web, con una estructura, carpetas, config\n",
        "#todo se organiza de una forma muy particular\n",
        "#nos ofrece funciones para desarrollar de forma rapida una web"
      ]
    },
    {
      "cell_type": "code",
      "source": [
        "#ANTES\n",
        "#Una arquitectura nos permite tener una organizacion en el codigo\n",
        "#MVC, tu software lo tenes que organizar en tres partes:\n",
        "#Modelo: todas las funcione, objetos, clases, que se encarga de trabajar con los datos en la base de datos, traer devolver o guardarlos.\n",
        "#-parte especifica de softwar q trabaja con datos\n",
        "#Controlador: contiene toda la logica.\n",
        "#Vista: funciones, clases, para presentar al usuario, lo q va a ver el usuario\n",
        "#EL USUARIO QUIERE VER FOTOS DE MESSI, LE SOLICITA AL CONTROLADOR, EL CONTROLADOR SE LO PIDE AL MODELO, EL CUAL SE CONETA A LA BASE DE DATOS\n",
        "#PARA BUSCAR LAS IMAGENES, SE LO DEVUELVE AL CONTROLADOR, EL CONTROLADOR SE LOS PASA A LA PARTE DE LA VISTA, LA CUAL ARMA LA RESPUESTA\n",
        "#Y SE LA DEVUELVE AL USUARIO "
      ],
      "metadata": {
        "id": "reiWeAMUzBrr"
      },
      "execution_count": null,
      "outputs": []
    },
    {
      "cell_type": "code",
      "source": [
        "#DJANGO USA UNA ARQUITECTURA NUEVA \"MVT\" modelo vista template:\n",
        "#AHORA\n",
        "#cuando el usuario solicita algo a la web, lo recibe django, el cual ya tiene definida las rutas.\n",
        "#busca la ruta/url (login/cierre/inicio de sesion), la cual esta asociada a una vista "
      ],
      "metadata": {
        "id": "6yyPNWrs4CGf"
      },
      "execution_count": null,
      "outputs": []
    },
    {
      "cell_type": "code",
      "source": [
        "#TEMPLATE, es una respuesta, html, lo que se le devuelve al usuario"
      ],
      "metadata": {
        "id": "dX-n-vXo5DEr"
      },
      "execution_count": null,
      "outputs": []
    },
    {
      "cell_type": "code",
      "source": [
        "#INSTALANDO DJANGO\n",
        "\n",
        "#pip install Django\n",
        "#pip\n",
        "#python...\n",
        "#En la linea escribir import django\n",
        "#En la 2da linea escribir django.VERSION\n",
        "#Tupla con la version.\n",
        "#para ver todos los comando pip --help\n",
        "#SI QUERES ACTUALIZAR LA VERSION DE PYTHON ES 'pip install --upgrade Django\n"
      ],
      "metadata": {
        "id": "_ZSaxNMR806R"
      },
      "execution_count": null,
      "outputs": []
    },
    {
      "cell_type": "code",
      "source": [
        "#CREAR PROYECTO\n",
        "\n",
        "#django admin, es una herramienta q nos permite crear proyectos y poder gestionarlos\n",
        "#AHORA VAMOS A EJECUTAR EL SCRIPT DE DJANGO ADMIN\n",
        "#vamos a visualstudio\n",
        "#django-admin startproject + nombre\n",
        "#crea dentro de la carpeta, una carpeta con el nombre, y dntro de la nueva carpeta encontramos otra carpeta con el mismo nombre y\n",
        "#un manage.py, q nos sirve para administrar todo el proyecto entero\n",
        "#(para borrar una carpeta completa se hace rm -rf)\n",
        "#AL ARCHIVO Q SE GENERA LE PODEMOS CAMBIAR EL NOMBRE AL Q QUERAMOS, LA DE ADENTRO NO YA QUE ES UN\n",
        "#PAQUETE!!!!!\n",
        "\n",
        "#PARA SABER LA RUTA SOLO PONES PWD\n",
        "#REPASO IMPORTANTE DE CADA ARCHIVO DENTRO DE LA CARPETA DJANGO\n",
        "#manage.py es la mas importante donde vamos a estar trabajando, va a recibir los comandos, arrancar el pryecto, pararlo, etc\n",
        "#init \n",
        "#asgi y wsgi son dos archivos q necesitan p y dj, para correr una app web, levantan un servidos web en la maquina\n",
        "#setting contiene todas las config del proyecto completo.\n",
        "#urls, se maneja con una lista, si queremos agregar mas rutas las agregamos ahi "
      ],
      "metadata": {
        "id": "eqMvwGdgaPUW"
      },
      "execution_count": null,
      "outputs": []
    },
    {
      "cell_type": "code",
      "source": [
        "#cerramos la terminal en la q programamos todo, y abrimos una nueva terminal\n",
        "#PARA EMPEZAR A CORRER EL PROYECTO..\n",
        "#Nos tenemos que mover dentro de la carpeta que tenga el manage.py\n",
        "#'cd + nombre de la primera carpeta'\n",
        "#ls para ver las carpetas\n",
        "#ejecutamos el archivo 'python manage.py' MUESTRA UN MENSAJE LARGO(todos los comandos de manage.py)\n",
        "#manage.py va a funcionar como el Django-admin, le pasamos determinados comandos y va a hacer lo que yo le pida con los comandos"
      ],
      "metadata": {
        "id": "6C04p1rcuBTP"
      },
      "execution_count": null,
      "outputs": []
    },
    {
      "cell_type": "code",
      "source": [
        "#LUEGO ponemos el comando 'python manage.py runserver', esto sirve para iniciar un servidor de desarrollo y dice la direccion\n",
        "#copiamos el numero, voy a mi navegador y lo pego, y podemos ver una pagina q esta funcionando con DJANGO, django funciona correctamente\n",
        "#SI QUEREMOS PARARLO simplemente ponemos 'CONTROL-C' \n",
        "\n",
        "#HASTA ACA CREAMOS EL PROYECTO"
      ],
      "metadata": {
        "id": "fx_gk4HfwF2J"
      },
      "execution_count": null,
      "outputs": []
    },
    {
      "cell_type": "code",
      "source": [
        "#QUE ES EL MENSAJE EN ROJO QUE MUESTRA?\n",
        "\n",
        "#NOS PIDE Q APLIQUEMOS MIGRACIONES.\n",
        "#dbsqlite3 es nuestra base de datos, y esta vacia, y de eso se queja Django, y no puede estar vacia pq viene a checkear ahi\n",
        "#ASI QUE LE VAMOS A DAR LO QUE NECESITA\n",
        "#'python manage.py makemigrations', dice que no hay cambios detectados\n",
        "#LUEGO EL SEGUNDO COMANDO 'python manage.py migrate', TERMINAR DE MIGRAR\n",
        "#AHORA CUANDO ABRIMOS EL SQLITE APARECEN LAS TABLAS\n",
        "#YA NO APARECE EL MENSAJE ROJO\n",
        "#PARA SALIR, CONTROL-C"
      ],
      "metadata": {
        "id": "kV34Di14yb0c"
      },
      "execution_count": null,
      "outputs": []
    },
    {
      "cell_type": "code",
      "source": [
        "#QUIERO MOSTRAR INFORMACION A LOS USUARIOS Y RECIBIR INFORMACION\n",
        "\n",
        "#LAS VISTAS...\n",
        "#primero creamos un archivo dentro de nuestro paquete que se llame view.py, en este archivo empezamos a trabajar las vistas\n",
        "#PRIMERO VAMOS A IMPORTAR EL HTTPSRESPONSE 'from django.http import HttpResponse'\n",
        "#vamos a crear funciones\n",
        "#def primer_django(Y RECIBE UN ARGUMENTO 'REQUEST'):\n",
        "#return del httpresponse del import, y este recibe el str que queramos ()\n",
        "#ESTO ES LA VISTA!!!\n",
        "\n",
        "#LAS VISTAS ESTAN ENLAZADAS A UNA URL ESPECIFICA, TENEMOS QUE ENGANCHAR ESA FUNCION A UNA URL\n",
        "#PARA ESO...\n",
        "#vamos a mis archivos urls.py\n",
        "#Primero, debajo del import path agregamos, from + nombre del paquete que hayamos creado + .view(que es el archivo donde escribimos) + import \n",
        "#+ nombre de la funcion( O UN * PARA QUE SEA LA CANT DE VECES QUE QUERAMOS)\n",
        "\n",
        "#POR DEBAJO ENCONTRAMOS LA RUTAS Y AGREGAMOS LO SIGUIENTE \"path('saludo/(ruta PUEDE LLAMARSE COMO QUIERA)',primer_django(funcion))\"\n",
        "\n",
        "#APARECE UN MENSAJE DE ERROR POR EL DEBUG = TRUE en el settings, si este estaria desabilitado no sabriamos q paso con la pagina\n",
        "\n",
        "#DESPUES EN LA BARRA, DONDE SE ENCUENTRA LA PAGINA, DESPUES DE LA BARRA ELEGIMOS LA RUTA\n",
        "#Http://127.0.0.1:8000/ ACAAA elegimos en nuestro caso 'SALUDO/' \n",
        "\n",
        "#APARECE EL MENSAJE!!!!\n",
        "\n",
        "#agregamos otro def para probar\n",
        "#BUENO VAS DE NUEVO A URL Y CREAS OTRO PATH CON EL NOMBRE QUE QUIERAS MAS LA DEF"
      ],
      "metadata": {
        "id": "rJ-CInPC3MLY"
      },
      "execution_count": null,
      "outputs": []
    },
    {
      "cell_type": "code",
      "source": [
        "#PODEMOS PROBAR COSAS NUEVAS EN LA FUNCION CUANDO VAMOS A RETORNAR ALGO\n",
        "\n",
        "#def iniciar_sesion(request):\n",
        "    #return HttpResponse(\"\"\"\n",
        "    #<h1>Pasa tu username y tu password por WhatsApp</h1>\n",
        "    #<p style=\"color:red\" >esto es una prueba</p>\n",
        "    #\"\"\")\n",
        "\n",
        "#TODO ESTO OCURRE GRACIAS AL HTTPRESPONSE PQ DEVUELVE TODA LA CADENA COMO HTML"
      ],
      "metadata": {
        "id": "XE83KZzQ-lga"
      },
      "execution_count": null,
      "outputs": []
    },
    {
      "cell_type": "code",
      "source": [
        "#PASAJE DE PARÁMETROS\n",
        "#para que nuestras vstas pasen parametros\n",
        "#PATH PARAMS\n",
        "\n",
        "\n",
        "#from datetime import datetime\n",
        "#creamos def dia_hoy\n",
        "\n",
        "#def dia_hoy(request):\n",
        "   # hoy = datetime.now()\n",
        "\n",
        "   # respuesta = f'hoy es {hoy}'\n",
        "\n",
        "   # return HttpResponse(respuesta)\n",
        "\n",
        "#VAMOS A URL Y CREAMOS PATH\n",
        "#LISTOO MUESTRA EN TIEMPO REALLL"
      ],
      "metadata": {
        "id": "9oKzst-O_ilh"
      },
      "execution_count": null,
      "outputs": []
    },
    {
      "cell_type": "code",
      "source": [
        "#PERO YO QUIERO QUE ME PASEN COSASS!!! QUE HAGOO\n",
        "\n",
        "#def dia_hoy(request,nombre):  #VA A RECIBIR UN NOMBRE TAMBIEN\n",
        "   # hoy = datetime.now()\n",
        "\n",
        "   # respuesta = f'hoy es {hoy}'\n",
        "\n",
        "   # return HttpResponse(respuesta)\n",
        "\n",
        "#VAS A PATH Y DESPUES DE LA RUTA path('hoy/', dia_hoy) HOY va a ir lo siguiente\n",
        "#path('hoy/<nombre>/', dia_hoy)\n",
        "#OSEA LA PASAS LO Q ESTA EN LA FUNCION\n",
        "\n",
        "\n",
        "#Y CUANDO VAYAMOS A LA PAGINA DESPUES DE PONER /HOY/ PONEMOS NUESTRO NOMBRE"
      ],
      "metadata": {
        "id": "cACb4D37BhJK"
      },
      "execution_count": null,
      "outputs": []
    },
    {
      "cell_type": "code",
      "source": [
        "#ejercicio\n",
        "\n",
        "#def anio_nacimiento(request, edad):edad = int(edad)anio_nac = datetime.now().year - edadreturn HttpResponse(f\"Naciste en {anio_nac}\")\n"
      ],
      "metadata": {
        "id": "bMUlKTNACtLO"
      },
      "execution_count": null,
      "outputs": []
    },
    {
      "cell_type": "code",
      "source": [
        "#PLANTILLAS DJANGO SON LAS RESPUESTAS QUE LE VAMOS A DEVOLVER AL USUARIO\n",
        "#httpsresponse por ejemplo, para un archivo chiquitito\n",
        "#si tenemos q pasar algo grande es complejo\n",
        "\n",
        "#DJANGO NOS OFRECE TEMPLATES, archivos html\n",
        "\n",
        "#1- DENTRO DEL PROYECTO CREAMOS UNA CARPETA NUEVA dentro del 2do modulo llamada templates\n",
        "#dentro de template creamos un archivo con nombre + .html!!!!!!!\n",
        "#PONEMOS UN SIGNO ! Y LE DAMOS ENTER PARA GENERAR UNA PLANTILLA\n",
        "\n",
        "#DONDE ESTA EL TITLE le ponemos lo que queramos\n",
        "#donde dice el primer body ponemos h1 que s titulo en negrita\n",
        "#Ponemos un parrafo con <p>\n",
        "#y agregamos una imagen de pexels y copiamos el link\n",
        "#img para generar la etiqueta para la imagen y donde dice src ponemos el link\n",
        "\n",
        "#UN JAVASCRIPT....\n",
        "#<script>\n",
        " #alert('Hola mundo!')\n",
        "#</script>\n",
        "\n",
        "\n",
        "#ESTA VA A SER NUESTRA PLANTILLA, Y SE LA VAMOS A DEVOLVER AL USUARIO\n",
        "#CREAMOS UNA NUEVA vista haciendo un def en view\n",
        "\n",
        "#HAY QUE ABRIR EL ARCHIVO \n",
        "#def vista_plantilla(request):\n",
        "    #archivo = open(r siempre + (donde estamos parados hay una carpeta que se llama template, y dentro del archivo hay un .html(se agrega))\n",
        "    #O COPIAMOS LA RUTA"
      ],
      "metadata": {
        "id": "_5Lif-JJC_Qr"
      },
      "execution_count": null,
      "outputs": []
    },
    {
      "cell_type": "markdown",
      "source": [
        "SI NOS POSAMOS SOBRE OPEN PODEMOS VER COMO SE ABRE EL ARCHIVO, SIEMPRE SE ABRE EN READ CUANDO NO PONES NADA"
      ],
      "metadata": {
        "id": "1E-HdySlHoKC"
      }
    },
    {
      "cell_type": "markdown",
      "source": [
        "Ahora hay que traer el template!!!\n",
        "\n",
        "ASI QUE VAMOS ARRIBA Y PONERMOS\n",
        "\n",
        "FROM DJANGO.TEMPLATE IMPORT TEMPLATE, CONTEXT\n",
        "\n",
        "nos va a permitir crear una plantilla\n",
        "\n",
        "luego en el def agregamos la plantilla"
      ],
      "metadata": {
        "id": "SmfxjvGrHxV3"
      }
    },
    {
      "cell_type": "code",
      "source": [
        "#HAY QUE ABRIR EL ARCHIVO \n",
        "#def vista_plantilla(request):\n",
        "    #archivo = open(./templates/ (donde estamos parados hay una carpeta que se llama template, y dentro del archivo hay un .html(se agrega))\n",
        "    #plantilla = Template(\"lo que tiene q renderizar\" le pasamos el contenido del archivo: archivo.read()) \n",
        "    #devuelve en un solo str todo el cont del archivo\n",
        "    #1- CERRAMOS EL ARCHIVO archivo.close()\n",
        "    #2- CREAMOS UN CONTEXTO 'contexto = Context()'\n",
        "    #3- GENERAMOS EL DOCUMENTO Q PASAMOS AL HTTPRESPONSE\n",
        "    #documento = plantilla.render(Y NECESITA QUE LE PASEMOS UN OBJETO DE TIPO CONTEXT QUE ES EL DE ARRIBA)\n",
        "    #(contexto)\n",
        "\n",
        "#PLANTILLA.RENDER VA A GENERAR A PARTIR DE TODO EL CONT Y EL CONTEXTO (VACIO) VA A GENERAR UN NUEVO DOC. UN OBJETO DE TIPO PLANTILLA\n",
        "#TODO ESTO LO VA A RENDERIZAR EL HTTP RESPONSE:\n",
        "#return HttpResponse(documento)\n",
        "#MODIFICAMOS LAS RUTAS PATH('proyecto/, + funcion)\n",
        "#ABRIMOS EL LINK Y PONEMOS EL NOMBRE, para que no se vea grande ponemos abajo de img style=\"max-width: 300px;\" INVESTIGAR\n"
      ],
      "metadata": {
        "id": "FlMi9A-OIPsL"
      },
      "execution_count": null,
      "outputs": []
    },
    {
      "cell_type": "code",
      "source": [
        "#DJANGO 18"
      ],
      "metadata": {
        "id": "wGM2vxin5QyD"
      },
      "execution_count": null,
      "outputs": []
    },
    {
      "cell_type": "code",
      "source": [
        "#MEJORAR LAS PLANTILLAS\n",
        "#HACER QUE LAS PLANTILLAS SEAN DINÁMICAS\n",
        "#Por ejemplo quiero poner un titulo en htm. que diga <p>Hola NOMBRE<p> y que nombre sea dinamico\n",
        "#pero no puedo cambiar el html pq es un archivo, COMO HACEMOS?\n",
        "\n",
        "#USAMOS CONTEXTO Y RENDERIZADO DE PLANTILLAS, pasarle CONTEXTO"
      ],
      "metadata": {
        "id": "Rn8AlAx_6Bx0"
      },
      "execution_count": null,
      "outputs": []
    },
    {
      "cell_type": "code",
      "source": [
        "#tomamos la vista\n",
        "\n",
        "#def vista_plantilla(request):\n",
        "    #abrimos el archivo \n",
        "    #archivo = open(r'C:\\Users\\matia\\OneDrive\\Documentos\\Coder\\Django\\Django1\\Django1\\templates\\plantilla.html')\n",
        "\n",
        "    #creamos el objeto plantilla\n",
        "    #plantilla = Template(archivo.read())\n",
        "\n",
        "    #cerramos el archivo para liberar recursos\n",
        "    #archivo.close()\n",
        "  \n",
        "    #Y HACEMOS!!! diccionario con datos para la plantilla\n",
        "\n",
        "    #datos = {'nombre':'Leonel','fecha':'datetime.now()','apellido':'Astore'}\n",
        "\n",
        "    #creamos el contexto\n",
        "    #contexto = Context()\n",
        "\n",
        "    #renderizamos la plantilla para crear la respuesta\n",
        "    #documento = plantilla.render(contexto)\n",
        "  \n",
        "    #retornamos la respuesta\n",
        "    #return HttpResponse(documento)\n",
        "\n",
        "#TOMAMOS AL DICCIONARIO DE DATOS Y SE LO INDICAMOS AL CONSTRUCTOR DE LA CLASE CONTEXT\n",
        "#abrimo una terminal\n",
        "#hacemos ls\n",
        "#nos movemos con cd a django1\n",
        "#ls\n",
        "#runsever\n",
        "#VAMOS A LA PAGINA\n",
        "#NO APARECE NADA PQ NO INDICAMOS LA VARIABLE\n",
        "\n",
        "#VAMOS A PLANTILLA HTML!!!!\n",
        "#Indicamos\n",
        "#para renderizar una de las variables ponemos {{PONEMOS EL NOMBRE DE LA CLAVE DEL DICCIONARIO}}  (las variables son los datos)\n",
        "#FUNCIONA CASI CASI COMO UN (F'STRING')\n"
      ],
      "metadata": {
        "id": "3HsNE0mm6B5L"
      },
      "execution_count": null,
      "outputs": []
    },
    {
      "cell_type": "code",
      "source": [
        "#BUCLES Y CONDICIONALES\n",
        "\n",
        "#creamos una nueva vista con def, y un nuevo archivo en templates\n",
        "#signo de !, enter y tenemos el esqueleto\n",
        "#agregamos la variable en body {{}}\n",
        "#copiamos la ruta de listado de alumnos, vamos a views y dentro del def abrimos el archivo y pegamos la ruta\n",
        "#CREAMOS EL TEMPLATE\n",
        "#cerramos archivo\n",
        "#hacemos listado_alumnos = [NOMBRES]\n",
        "#creamos diccionario con variable datos, datos = {}\n",
        "#creamos el contexto \n",
        "#creamos el doc\n",
        "#documento = plantilla.render(contexto)\n",
        "#return httpsresponse(documento)\n",
        "\n",
        "#ADEMAS DE {{}} PODEMOS USAR tags {%%} FOR\n",
        "#es muy especifico para los templates\n",
        "\n",
        "#VAMOS A TRABAJAR EN EL TEMPLATE (html)\n",
        "#sacamos {{lista_alumnos}}\n",
        "#agregamos <u><u/> (lista) \n",
        "#declaramos un for \n",
        "#{% for alumno in listado_alumnos%}, listado alumnos es la lista por medio de la clave del diccionario de listado alumnos\n",
        "#alumno es la variable q necesita el for, podemos ponerle cualquier cosa\n",
        "#y ponemos un cierre {% endfor %}\n",
        "#EN MEDIO DEL FOR Y EL ENDFOR VAMOS A COLOCAR <li> <li/> y usamos el operador de variable {{VARIABLE}} y le pasamos la var de for\n",
        "#ENTRAMOS A LA PAGINA Y MUESTRA UNA LISTA DESORDENADA, si queres que esten enumerados entonces usas <ol><ol/>"
      ],
      "metadata": {
        "id": "tGDv0gAogtpY"
      },
      "execution_count": null,
      "outputs": []
    },
    {
      "cell_type": "code",
      "source": [
        "#PODEMOS METER UN IF\n",
        "#SI EL CURSO ES DE PYTHON IMPRIMIMOS EL TITULO VERDE, SI ES DE REACT AZUL\n",
        "\n",
        "#{% if tecnologia == \"Python\"%}\n",
        "#<h1 style=\"color: green;\"> Curso de {{tecnologia}} </h1>\n",
        "#{% elif tecnologia == \"React\" % }\n",
        "#<h1 style=\"color: blue;\"> Curso de {{tecnologia}} </h1>\n",
        "#{% else %}\n",
        "#<h1> Curso de {{tecnologia}} </h1>\n",
        "\n",
        "#mas el cierre, sino no sabe dond termina la condicion\n",
        "\n",
        "#SI O SI HAY Q USAR ETIQUETA DE APERTURA Y CIERRE \n",
        "#{% endif %}!!!!!!\n",
        "#vamos a la pagina y vemos el resultado, si cambiamos tecnologia vemos como cambian los colores"
      ],
      "metadata": {
        "id": "OYyh0QKSzRej"
      },
      "execution_count": null,
      "outputs": []
    },
    {
      "cell_type": "code",
      "source": [
        "#NOTA IMPORTANTE, SI QUERES COMENTAR EN EL CODIGO PODES HACER <!-- todo lo q este em medio esta comentado --> "
      ],
      "metadata": {
        "id": "vFOVcSJP4XF3"
      },
      "execution_count": null,
      "outputs": []
    },
    {
      "cell_type": "code",
      "source": [
        "#CARGADORES DE PLANTILLAS\n",
        "\n",
        "#DRY = DONT REPIT YOURSELF\n",
        "#ULTIMAMENTE REPETIMOS CODIGO\n",
        "#DJANGO NOS OFRECE LOS CARGADORES DE PLANTILLAS\n",
        "\n",
        "#Estos reciben datos minimos y ya generan el documento, hacen el renderizado y todo lo que necesitamos sin que escribamos mas de una linea de codigo\n",
        "#que tenemos que hacer?\n",
        "#AGREGAMOS UN IMPORT!!! from django.template import loader"
      ],
      "metadata": {
        "id": "lDF2Qe1I4XOT"
      },
      "execution_count": null,
      "outputs": []
    },
    {
      "cell_type": "code",
      "source": [
        "#Creamos una vista nueva\n",
        "#Le decimos al loader donde tiene q ir a buscar la plantilla\n",
        "#1- Vamos al settings.py, templates, DIRS colocamos la ruta de la carpeta que contiene los templates y la pegamos\n",
        "#2- Vamos a la vista y colocamos lo siguiente\n",
        "\n",
        "#def vista_listado_alumnos2(request):\n",
        "# Creamos el diccionario de datos\n",
        "#listado_alumnos = [\"Leonel Gareis\", \"Agustin Russo\", \"Cristian Garcia\", \"Angelo Pettinari\", \"Diego Ibarra\", \"Santiago Ortiz\", \"Barbara Vivante\", \"Barbara Pino\"]\n",
        "#datos = {\"tecnologia\": \"react\", \"listado_alumnos\": listado_alumnos}\n",
        "#plantilla = loader.get_template(\"listado_alumnos.html\")\n",
        "#documento = plantilla.render(datos)\n",
        "#return HttpResponse(documento)"
      ],
      "metadata": {
        "id": "2EkmA4k_9gbi"
      },
      "execution_count": null,
      "outputs": []
    },
    {
      "cell_type": "code",
      "source": [
        "#MODELOS nos permiten trabajar con datos, vamos a poder traer datos, borrarlos, modificarlos, crearlos, hacer busquedas, etc.\n",
        "#Sin saber base de datos\n",
        "#PROYECTO EN DJANGO ES todo lo que creamos hasta el momento, archivos, modulos, maange, todo\n",
        "#LOS PROYECTOS SE COMPONEN DE VARIAS APLICACIONES"
      ],
      "metadata": {
        "id": "F0rt2wRrHXbd"
      },
      "execution_count": null,
      "outputs": []
    },
    {
      "cell_type": "code",
      "source": [
        "#COMO CREAMOS UNA APLICACION\n",
        "#MI PRIMER PROGRAMA MVT\n",
        "\n",
        "#nos fijamos q estamos donde dice manage.py\n",
        "#1- Colocamos el comango python manage.py startapp + nombre\n",
        "#vamos a ver cosas distintas\n",
        "#carpeta migrations, con un paquete __init__.py\n",
        "#viwes todas las vistas de la aplicacion\n",
        "#test testea el codigo, pero no lo vamos a ver\n",
        "#models, declaramos nuestros modelos\n",
        "#apps Django sabe como comportarse con el paquete\n",
        "#admin.py lo vamos a ver mas adelante\n",
        "#__init__.py define a la carpeta como paquete"
      ],
      "metadata": {
        "id": "CcSfoBqWJU-j"
      },
      "execution_count": null,
      "outputs": []
    },
    {
      "cell_type": "code",
      "source": [
        "#EMPEZAMOS CON LOS MODELOS\n",
        "#vamos al archivo models.py, y creamos una clase que herede de otra clase django y le vamos a ir declarando los campos\n",
        "#COLOCAMOS LA PALABTA CLASS + nombre del modelo q queremos crear class Familia(models.Model):\n",
        "#DENTRO VAMOS A ESCRIBIR LO QUE NECESITAMOS\n",
        "\n",
        "\n",
        "#class familia(models.Model):\n",
        "\n",
        "   #nombres = models.CharField()\n",
        "   #edades = models.IntegerField()\n",
        "\n",
        "#QUE LE DECIMOS A DJANGO CON ESTO?, que va a tener un modulo que se llama curso y que tiene 2 campos (nombres,edades)\n",
        "#en criollo, nombre va a ser texto(charfield), edad un numero(integerfield)\n",
        "\n",
        "#CHARFIELD DEBE TENER SI O SI  UN LIMITE, PARA Q LA BASE DE DATOS SEPA nombres = models.CharField(max_lenght = 50)\n",
        "\n",
        "#Como llevamos esto a la base de datos...\n",
        "#Vamos a settings.py\n",
        "#VAMOS A LA PARTE DONDE DICE INSTALLED APPS, estas son las apps disponibles dentro del proyecto, SON PROPIAS DE DJANGO\n",
        "#PERO LA QUE CREE NO ES PROPIA DE DJANGO LA CREE YO\n",
        "#AGREGAS EL NOMBRE DE LA APLICACION, EN MI CASO 'MVT_entrega'\n",
        "#lo siguiente es checkear 'manage.py check + nombre de la app'\n",
        "\n",
        "#AHORA TENEMOS Q DECIRLE A DJANGO QUE CREE LOS ARCHIVOS DE MIGRACIONES A LA BASE DE DATOS!!!:\n",
        "#usamos el codigo 'python manage.py makemigrations + nombre de LA APP'\n",
        "#VA A APARECER ESTO:\n",
        "#Migrations for 'MVT_entrega':\n",
        "  #MVT_entrega\\migrations\\0001_initial.py\n",
        "   # - Create model familia1\n",
        "\n",
        "#APARECEN NUEVOS ARCHIVOS DENTRO DE MIGRATIONS, INITIAL.py, ESTO ES... el archivo, la operacion que debe hacer django con nuestro modelo \n",
        "#en la base de datos...\n",
        "\n",
        "#entramos a db.sqlite y vemos las tablas, siguen siendo las misma, que tenemos q hacer ahora?, llevar las migraciones a las bases de datos:\n",
        "#'python manage.py migrate', refrescas la base de datos y aparece una nueva tabla\n",
        "#tenemos nuestra tabla creada"
      ],
      "metadata": {
        "id": "sOQDT72uLyME"
      },
      "execution_count": null,
      "outputs": []
    },
    {
      "cell_type": "code",
      "source": [
        "#DB BROWSER, SIRVE PARA MODIFICAR Y CREAR EN LA TABLA, SOLO FUNCIONA PARA SQ.LITE!!!\n",
        "\n",
        "#LO DESCARGAMOS! , tenemos q iniciarlo\n",
        "#BUENO CUANDO YA LO TENEMOS, ESCRIBIMOS EN LAS COLUMNAS\n",
        "#CREAMOS UNA COLUMNA Y ESCRIBIMOS LOS DATOS\n",
        "#Y LE DAMOS A 'WRITE CHANGES'\n",
        "#vamos avsc y refrescamos la tabla y vamos a el archivo nuestro, y se encuentran en la base de datos lo q escribimos \n",
        "\n",
        "#ESTO SIRVEN PARA QUE LOS DATOS NO ESTEN EN VARIABLES Y ARCHIVOS, SINO QUE ESTEN EN UNA BASE DE DATOS DE FORMA PERSISTENTE"
      ],
      "metadata": {
        "id": "eE9kJYpvwJVY"
      },
      "execution_count": null,
      "outputs": []
    },
    {
      "cell_type": "code",
      "source": [
        "#OTRA FORMA DE AGREGAR DATOS A LA BASE DE DATOS, ES TRABAJAR CON EL CODIGO...\n",
        "#'python manage.py shell'\n",
        "#MODO INTERACTIVO...\n",
        "#ESO PERMITE TRAER ARCHIVOS Y FUNCIONES QUE ESTEN DENTRO DE LOS MISMOS, por ejemplo los modelos...\n",
        "#'From + 'nombre de tu archivo de app'.models + import 'nombre de la clase q quieras importar' en mi caso familia1\n",
        "#y asi tenes disponible la clase...\n",
        "#AHORA Vamos a crear una clase en la terminal: ej:\n",
        "#en mi caso: Familia = familia1(nombre = 'Jose A.', Edad = 22)\n",
        "#DAMOS ENTER\n",
        "#podemos acceder a sus campos: Familia.nombre por ej\n",
        "\n",
        "#AHORA VAMOS A GUARDAR ESO EN LA BASE DE DATOS\n",
        "#COMO HACEMOS PARA GUARDAR ALGO EN LA BASE DE DATOS...\n",
        "#Familia.save() toma los atributos y los guarda en el DB browser\n",
        "\n",
        "\n",
        "#ESTAS SON DOS FORMAS DE GUARDAR!!!, mirar ultimos 10 minutos de la clase para comprender mejor!!!\n",
        "\n",
        "#PARA LA PARTE DE LA WEB vamos a las viwes.py de la app\n",
        "#COLOCAMOS:\n",
        "#En mi caso es asi!\n",
        "\n",
        "#from django.http import HttpResponse\n",
        "#from MVT_entrega.models import familia1  \n",
        "\n",
        "# Create your views here.\n",
        "\n",
        "#def listado_de_familia(request):\n",
        "    #listado = familia1.objects.all()\n",
        "    #Vista = \"\"\n",
        "    #for FAMILIA in listado:\n",
        "        #Vista += FAMILIA.nombre + \" | \"\n",
        "\n",
        "    #return HttpResponse\n",
        "\n",
        "#ESTO LO METEMOS EN EL URL DE TEMPLATES\n",
        "#AGREGAMOS ARRIBA from 'nombre de tu app'.views import *"
      ],
      "metadata": {
        "id": "i-u36vhAwvIb"
      },
      "execution_count": null,
      "outputs": []
    }
  ]
}